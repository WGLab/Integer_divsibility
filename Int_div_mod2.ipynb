{
  "nbformat": 4,
  "nbformat_minor": 0,
  "metadata": {
    "colab": {
      "provenance": [],
      "gpuType": "T4"
    },
    "kernelspec": {
      "name": "python3",
      "display_name": "Python 3"
    },
    "language_info": {
      "name": "python"
    },
    "accelerator": "GPU",
    "widgets": {
      "application/vnd.jupyter.widget-state+json": {
        "7885ea281b8348f68b777687f305c923": {
          "model_module": "@jupyter-widgets/controls",
          "model_name": "HBoxModel",
          "model_module_version": "1.5.0",
          "state": {
            "_dom_classes": [],
            "_model_module": "@jupyter-widgets/controls",
            "_model_module_version": "1.5.0",
            "_model_name": "HBoxModel",
            "_view_count": null,
            "_view_module": "@jupyter-widgets/controls",
            "_view_module_version": "1.5.0",
            "_view_name": "HBoxView",
            "box_style": "",
            "children": [
              "IPY_MODEL_72ad1363e50d4af2a785ea8d3336e623",
              "IPY_MODEL_f6db41b16af8454eae0e175318c139fd",
              "IPY_MODEL_7dd4b3e2a0f348b5a64b40e22f9af65d"
            ],
            "layout": "IPY_MODEL_210e946f6ebc4cb4a6deaee36f699452"
          }
        },
        "72ad1363e50d4af2a785ea8d3336e623": {
          "model_module": "@jupyter-widgets/controls",
          "model_name": "HTMLModel",
          "model_module_version": "1.5.0",
          "state": {
            "_dom_classes": [],
            "_model_module": "@jupyter-widgets/controls",
            "_model_module_version": "1.5.0",
            "_model_name": "HTMLModel",
            "_view_count": null,
            "_view_module": "@jupyter-widgets/controls",
            "_view_module_version": "1.5.0",
            "_view_name": "HTMLView",
            "description": "",
            "description_tooltip": null,
            "layout": "IPY_MODEL_63036b17982a4d8cb372780a4ff9502c",
            "placeholder": "​",
            "style": "IPY_MODEL_ec1b8269e29748848ed26dfc695530b3",
            "value": "Downloading (…)lve/main/config.json: 100%"
          }
        },
        "f6db41b16af8454eae0e175318c139fd": {
          "model_module": "@jupyter-widgets/controls",
          "model_name": "FloatProgressModel",
          "model_module_version": "1.5.0",
          "state": {
            "_dom_classes": [],
            "_model_module": "@jupyter-widgets/controls",
            "_model_module_version": "1.5.0",
            "_model_name": "FloatProgressModel",
            "_view_count": null,
            "_view_module": "@jupyter-widgets/controls",
            "_view_module_version": "1.5.0",
            "_view_name": "ProgressView",
            "bar_style": "success",
            "description": "",
            "description_tooltip": null,
            "layout": "IPY_MODEL_176e5d3852614c859029285041f9b37d",
            "max": 570,
            "min": 0,
            "orientation": "horizontal",
            "style": "IPY_MODEL_1eb87fc6d7fb49a8a6a7137008a6567f",
            "value": 570
          }
        },
        "7dd4b3e2a0f348b5a64b40e22f9af65d": {
          "model_module": "@jupyter-widgets/controls",
          "model_name": "HTMLModel",
          "model_module_version": "1.5.0",
          "state": {
            "_dom_classes": [],
            "_model_module": "@jupyter-widgets/controls",
            "_model_module_version": "1.5.0",
            "_model_name": "HTMLModel",
            "_view_count": null,
            "_view_module": "@jupyter-widgets/controls",
            "_view_module_version": "1.5.0",
            "_view_name": "HTMLView",
            "description": "",
            "description_tooltip": null,
            "layout": "IPY_MODEL_136900f1f2e24a68ba918d048ada484f",
            "placeholder": "​",
            "style": "IPY_MODEL_8ed00484c703476e862606379547ab4b",
            "value": " 570/570 [00:00&lt;00:00, 26.7kB/s]"
          }
        },
        "210e946f6ebc4cb4a6deaee36f699452": {
          "model_module": "@jupyter-widgets/base",
          "model_name": "LayoutModel",
          "model_module_version": "1.2.0",
          "state": {
            "_model_module": "@jupyter-widgets/base",
            "_model_module_version": "1.2.0",
            "_model_name": "LayoutModel",
            "_view_count": null,
            "_view_module": "@jupyter-widgets/base",
            "_view_module_version": "1.2.0",
            "_view_name": "LayoutView",
            "align_content": null,
            "align_items": null,
            "align_self": null,
            "border": null,
            "bottom": null,
            "display": null,
            "flex": null,
            "flex_flow": null,
            "grid_area": null,
            "grid_auto_columns": null,
            "grid_auto_flow": null,
            "grid_auto_rows": null,
            "grid_column": null,
            "grid_gap": null,
            "grid_row": null,
            "grid_template_areas": null,
            "grid_template_columns": null,
            "grid_template_rows": null,
            "height": null,
            "justify_content": null,
            "justify_items": null,
            "left": null,
            "margin": null,
            "max_height": null,
            "max_width": null,
            "min_height": null,
            "min_width": null,
            "object_fit": null,
            "object_position": null,
            "order": null,
            "overflow": null,
            "overflow_x": null,
            "overflow_y": null,
            "padding": null,
            "right": null,
            "top": null,
            "visibility": null,
            "width": null
          }
        },
        "63036b17982a4d8cb372780a4ff9502c": {
          "model_module": "@jupyter-widgets/base",
          "model_name": "LayoutModel",
          "model_module_version": "1.2.0",
          "state": {
            "_model_module": "@jupyter-widgets/base",
            "_model_module_version": "1.2.0",
            "_model_name": "LayoutModel",
            "_view_count": null,
            "_view_module": "@jupyter-widgets/base",
            "_view_module_version": "1.2.0",
            "_view_name": "LayoutView",
            "align_content": null,
            "align_items": null,
            "align_self": null,
            "border": null,
            "bottom": null,
            "display": null,
            "flex": null,
            "flex_flow": null,
            "grid_area": null,
            "grid_auto_columns": null,
            "grid_auto_flow": null,
            "grid_auto_rows": null,
            "grid_column": null,
            "grid_gap": null,
            "grid_row": null,
            "grid_template_areas": null,
            "grid_template_columns": null,
            "grid_template_rows": null,
            "height": null,
            "justify_content": null,
            "justify_items": null,
            "left": null,
            "margin": null,
            "max_height": null,
            "max_width": null,
            "min_height": null,
            "min_width": null,
            "object_fit": null,
            "object_position": null,
            "order": null,
            "overflow": null,
            "overflow_x": null,
            "overflow_y": null,
            "padding": null,
            "right": null,
            "top": null,
            "visibility": null,
            "width": null
          }
        },
        "ec1b8269e29748848ed26dfc695530b3": {
          "model_module": "@jupyter-widgets/controls",
          "model_name": "DescriptionStyleModel",
          "model_module_version": "1.5.0",
          "state": {
            "_model_module": "@jupyter-widgets/controls",
            "_model_module_version": "1.5.0",
            "_model_name": "DescriptionStyleModel",
            "_view_count": null,
            "_view_module": "@jupyter-widgets/base",
            "_view_module_version": "1.2.0",
            "_view_name": "StyleView",
            "description_width": ""
          }
        },
        "176e5d3852614c859029285041f9b37d": {
          "model_module": "@jupyter-widgets/base",
          "model_name": "LayoutModel",
          "model_module_version": "1.2.0",
          "state": {
            "_model_module": "@jupyter-widgets/base",
            "_model_module_version": "1.2.0",
            "_model_name": "LayoutModel",
            "_view_count": null,
            "_view_module": "@jupyter-widgets/base",
            "_view_module_version": "1.2.0",
            "_view_name": "LayoutView",
            "align_content": null,
            "align_items": null,
            "align_self": null,
            "border": null,
            "bottom": null,
            "display": null,
            "flex": null,
            "flex_flow": null,
            "grid_area": null,
            "grid_auto_columns": null,
            "grid_auto_flow": null,
            "grid_auto_rows": null,
            "grid_column": null,
            "grid_gap": null,
            "grid_row": null,
            "grid_template_areas": null,
            "grid_template_columns": null,
            "grid_template_rows": null,
            "height": null,
            "justify_content": null,
            "justify_items": null,
            "left": null,
            "margin": null,
            "max_height": null,
            "max_width": null,
            "min_height": null,
            "min_width": null,
            "object_fit": null,
            "object_position": null,
            "order": null,
            "overflow": null,
            "overflow_x": null,
            "overflow_y": null,
            "padding": null,
            "right": null,
            "top": null,
            "visibility": null,
            "width": null
          }
        },
        "1eb87fc6d7fb49a8a6a7137008a6567f": {
          "model_module": "@jupyter-widgets/controls",
          "model_name": "ProgressStyleModel",
          "model_module_version": "1.5.0",
          "state": {
            "_model_module": "@jupyter-widgets/controls",
            "_model_module_version": "1.5.0",
            "_model_name": "ProgressStyleModel",
            "_view_count": null,
            "_view_module": "@jupyter-widgets/base",
            "_view_module_version": "1.2.0",
            "_view_name": "StyleView",
            "bar_color": null,
            "description_width": ""
          }
        },
        "136900f1f2e24a68ba918d048ada484f": {
          "model_module": "@jupyter-widgets/base",
          "model_name": "LayoutModel",
          "model_module_version": "1.2.0",
          "state": {
            "_model_module": "@jupyter-widgets/base",
            "_model_module_version": "1.2.0",
            "_model_name": "LayoutModel",
            "_view_count": null,
            "_view_module": "@jupyter-widgets/base",
            "_view_module_version": "1.2.0",
            "_view_name": "LayoutView",
            "align_content": null,
            "align_items": null,
            "align_self": null,
            "border": null,
            "bottom": null,
            "display": null,
            "flex": null,
            "flex_flow": null,
            "grid_area": null,
            "grid_auto_columns": null,
            "grid_auto_flow": null,
            "grid_auto_rows": null,
            "grid_column": null,
            "grid_gap": null,
            "grid_row": null,
            "grid_template_areas": null,
            "grid_template_columns": null,
            "grid_template_rows": null,
            "height": null,
            "justify_content": null,
            "justify_items": null,
            "left": null,
            "margin": null,
            "max_height": null,
            "max_width": null,
            "min_height": null,
            "min_width": null,
            "object_fit": null,
            "object_position": null,
            "order": null,
            "overflow": null,
            "overflow_x": null,
            "overflow_y": null,
            "padding": null,
            "right": null,
            "top": null,
            "visibility": null,
            "width": null
          }
        },
        "8ed00484c703476e862606379547ab4b": {
          "model_module": "@jupyter-widgets/controls",
          "model_name": "DescriptionStyleModel",
          "model_module_version": "1.5.0",
          "state": {
            "_model_module": "@jupyter-widgets/controls",
            "_model_module_version": "1.5.0",
            "_model_name": "DescriptionStyleModel",
            "_view_count": null,
            "_view_module": "@jupyter-widgets/base",
            "_view_module_version": "1.2.0",
            "_view_name": "StyleView",
            "description_width": ""
          }
        },
        "e19099144c774eccb8a58ed6c70089ca": {
          "model_module": "@jupyter-widgets/controls",
          "model_name": "HBoxModel",
          "model_module_version": "1.5.0",
          "state": {
            "_dom_classes": [],
            "_model_module": "@jupyter-widgets/controls",
            "_model_module_version": "1.5.0",
            "_model_name": "HBoxModel",
            "_view_count": null,
            "_view_module": "@jupyter-widgets/controls",
            "_view_module_version": "1.5.0",
            "_view_name": "HBoxView",
            "box_style": "",
            "children": [
              "IPY_MODEL_caf97feadec84476bbedfd450ac10bfd",
              "IPY_MODEL_a172b3da46614c2591f6c6369bdf4293",
              "IPY_MODEL_8f4b94c5bd29415fba0a6e2f9d926c30"
            ],
            "layout": "IPY_MODEL_8f34a57f85094dbaaeac8cc65f771dda"
          }
        },
        "caf97feadec84476bbedfd450ac10bfd": {
          "model_module": "@jupyter-widgets/controls",
          "model_name": "HTMLModel",
          "model_module_version": "1.5.0",
          "state": {
            "_dom_classes": [],
            "_model_module": "@jupyter-widgets/controls",
            "_model_module_version": "1.5.0",
            "_model_name": "HTMLModel",
            "_view_count": null,
            "_view_module": "@jupyter-widgets/controls",
            "_view_module_version": "1.5.0",
            "_view_name": "HTMLView",
            "description": "",
            "description_tooltip": null,
            "layout": "IPY_MODEL_1c420a71918b4f24ad57d1f4bd5de2f3",
            "placeholder": "​",
            "style": "IPY_MODEL_987fe538329c4a1383c4a979379a36d4",
            "value": "Downloading model.safetensors: 100%"
          }
        },
        "a172b3da46614c2591f6c6369bdf4293": {
          "model_module": "@jupyter-widgets/controls",
          "model_name": "FloatProgressModel",
          "model_module_version": "1.5.0",
          "state": {
            "_dom_classes": [],
            "_model_module": "@jupyter-widgets/controls",
            "_model_module_version": "1.5.0",
            "_model_name": "FloatProgressModel",
            "_view_count": null,
            "_view_module": "@jupyter-widgets/controls",
            "_view_module_version": "1.5.0",
            "_view_name": "ProgressView",
            "bar_style": "success",
            "description": "",
            "description_tooltip": null,
            "layout": "IPY_MODEL_699a9352c41d4a9395c7b75278c31837",
            "max": 435755784,
            "min": 0,
            "orientation": "horizontal",
            "style": "IPY_MODEL_d1cb4872be974dee8e9d80c78e7e1309",
            "value": 435755784
          }
        },
        "8f4b94c5bd29415fba0a6e2f9d926c30": {
          "model_module": "@jupyter-widgets/controls",
          "model_name": "HTMLModel",
          "model_module_version": "1.5.0",
          "state": {
            "_dom_classes": [],
            "_model_module": "@jupyter-widgets/controls",
            "_model_module_version": "1.5.0",
            "_model_name": "HTMLModel",
            "_view_count": null,
            "_view_module": "@jupyter-widgets/controls",
            "_view_module_version": "1.5.0",
            "_view_name": "HTMLView",
            "description": "",
            "description_tooltip": null,
            "layout": "IPY_MODEL_22c572c48aeb4df8b33334806fecbe96",
            "placeholder": "​",
            "style": "IPY_MODEL_aaa37ae24f304d31ba8bd83c81e0e9ed",
            "value": " 436M/436M [00:01&lt;00:00, 272MB/s]"
          }
        },
        "8f34a57f85094dbaaeac8cc65f771dda": {
          "model_module": "@jupyter-widgets/base",
          "model_name": "LayoutModel",
          "model_module_version": "1.2.0",
          "state": {
            "_model_module": "@jupyter-widgets/base",
            "_model_module_version": "1.2.0",
            "_model_name": "LayoutModel",
            "_view_count": null,
            "_view_module": "@jupyter-widgets/base",
            "_view_module_version": "1.2.0",
            "_view_name": "LayoutView",
            "align_content": null,
            "align_items": null,
            "align_self": null,
            "border": null,
            "bottom": null,
            "display": null,
            "flex": null,
            "flex_flow": null,
            "grid_area": null,
            "grid_auto_columns": null,
            "grid_auto_flow": null,
            "grid_auto_rows": null,
            "grid_column": null,
            "grid_gap": null,
            "grid_row": null,
            "grid_template_areas": null,
            "grid_template_columns": null,
            "grid_template_rows": null,
            "height": null,
            "justify_content": null,
            "justify_items": null,
            "left": null,
            "margin": null,
            "max_height": null,
            "max_width": null,
            "min_height": null,
            "min_width": null,
            "object_fit": null,
            "object_position": null,
            "order": null,
            "overflow": null,
            "overflow_x": null,
            "overflow_y": null,
            "padding": null,
            "right": null,
            "top": null,
            "visibility": null,
            "width": null
          }
        },
        "1c420a71918b4f24ad57d1f4bd5de2f3": {
          "model_module": "@jupyter-widgets/base",
          "model_name": "LayoutModel",
          "model_module_version": "1.2.0",
          "state": {
            "_model_module": "@jupyter-widgets/base",
            "_model_module_version": "1.2.0",
            "_model_name": "LayoutModel",
            "_view_count": null,
            "_view_module": "@jupyter-widgets/base",
            "_view_module_version": "1.2.0",
            "_view_name": "LayoutView",
            "align_content": null,
            "align_items": null,
            "align_self": null,
            "border": null,
            "bottom": null,
            "display": null,
            "flex": null,
            "flex_flow": null,
            "grid_area": null,
            "grid_auto_columns": null,
            "grid_auto_flow": null,
            "grid_auto_rows": null,
            "grid_column": null,
            "grid_gap": null,
            "grid_row": null,
            "grid_template_areas": null,
            "grid_template_columns": null,
            "grid_template_rows": null,
            "height": null,
            "justify_content": null,
            "justify_items": null,
            "left": null,
            "margin": null,
            "max_height": null,
            "max_width": null,
            "min_height": null,
            "min_width": null,
            "object_fit": null,
            "object_position": null,
            "order": null,
            "overflow": null,
            "overflow_x": null,
            "overflow_y": null,
            "padding": null,
            "right": null,
            "top": null,
            "visibility": null,
            "width": null
          }
        },
        "987fe538329c4a1383c4a979379a36d4": {
          "model_module": "@jupyter-widgets/controls",
          "model_name": "DescriptionStyleModel",
          "model_module_version": "1.5.0",
          "state": {
            "_model_module": "@jupyter-widgets/controls",
            "_model_module_version": "1.5.0",
            "_model_name": "DescriptionStyleModel",
            "_view_count": null,
            "_view_module": "@jupyter-widgets/base",
            "_view_module_version": "1.2.0",
            "_view_name": "StyleView",
            "description_width": ""
          }
        },
        "699a9352c41d4a9395c7b75278c31837": {
          "model_module": "@jupyter-widgets/base",
          "model_name": "LayoutModel",
          "model_module_version": "1.2.0",
          "state": {
            "_model_module": "@jupyter-widgets/base",
            "_model_module_version": "1.2.0",
            "_model_name": "LayoutModel",
            "_view_count": null,
            "_view_module": "@jupyter-widgets/base",
            "_view_module_version": "1.2.0",
            "_view_name": "LayoutView",
            "align_content": null,
            "align_items": null,
            "align_self": null,
            "border": null,
            "bottom": null,
            "display": null,
            "flex": null,
            "flex_flow": null,
            "grid_area": null,
            "grid_auto_columns": null,
            "grid_auto_flow": null,
            "grid_auto_rows": null,
            "grid_column": null,
            "grid_gap": null,
            "grid_row": null,
            "grid_template_areas": null,
            "grid_template_columns": null,
            "grid_template_rows": null,
            "height": null,
            "justify_content": null,
            "justify_items": null,
            "left": null,
            "margin": null,
            "max_height": null,
            "max_width": null,
            "min_height": null,
            "min_width": null,
            "object_fit": null,
            "object_position": null,
            "order": null,
            "overflow": null,
            "overflow_x": null,
            "overflow_y": null,
            "padding": null,
            "right": null,
            "top": null,
            "visibility": null,
            "width": null
          }
        },
        "d1cb4872be974dee8e9d80c78e7e1309": {
          "model_module": "@jupyter-widgets/controls",
          "model_name": "ProgressStyleModel",
          "model_module_version": "1.5.0",
          "state": {
            "_model_module": "@jupyter-widgets/controls",
            "_model_module_version": "1.5.0",
            "_model_name": "ProgressStyleModel",
            "_view_count": null,
            "_view_module": "@jupyter-widgets/base",
            "_view_module_version": "1.2.0",
            "_view_name": "StyleView",
            "bar_color": null,
            "description_width": ""
          }
        },
        "22c572c48aeb4df8b33334806fecbe96": {
          "model_module": "@jupyter-widgets/base",
          "model_name": "LayoutModel",
          "model_module_version": "1.2.0",
          "state": {
            "_model_module": "@jupyter-widgets/base",
            "_model_module_version": "1.2.0",
            "_model_name": "LayoutModel",
            "_view_count": null,
            "_view_module": "@jupyter-widgets/base",
            "_view_module_version": "1.2.0",
            "_view_name": "LayoutView",
            "align_content": null,
            "align_items": null,
            "align_self": null,
            "border": null,
            "bottom": null,
            "display": null,
            "flex": null,
            "flex_flow": null,
            "grid_area": null,
            "grid_auto_columns": null,
            "grid_auto_flow": null,
            "grid_auto_rows": null,
            "grid_column": null,
            "grid_gap": null,
            "grid_row": null,
            "grid_template_areas": null,
            "grid_template_columns": null,
            "grid_template_rows": null,
            "height": null,
            "justify_content": null,
            "justify_items": null,
            "left": null,
            "margin": null,
            "max_height": null,
            "max_width": null,
            "min_height": null,
            "min_width": null,
            "object_fit": null,
            "object_position": null,
            "order": null,
            "overflow": null,
            "overflow_x": null,
            "overflow_y": null,
            "padding": null,
            "right": null,
            "top": null,
            "visibility": null,
            "width": null
          }
        },
        "aaa37ae24f304d31ba8bd83c81e0e9ed": {
          "model_module": "@jupyter-widgets/controls",
          "model_name": "DescriptionStyleModel",
          "model_module_version": "1.5.0",
          "state": {
            "_model_module": "@jupyter-widgets/controls",
            "_model_module_version": "1.5.0",
            "_model_name": "DescriptionStyleModel",
            "_view_count": null,
            "_view_module": "@jupyter-widgets/base",
            "_view_module_version": "1.2.0",
            "_view_name": "StyleView",
            "description_width": ""
          }
        }
      }
    }
  },
  "cells": [
    {
      "cell_type": "code",
      "execution_count": 1,
      "metadata": {
        "id": "0e7nOCfAXySR"
      },
      "outputs": [],
      "source": [
        "#import packages\n",
        "import numpy as np\n",
        "import random\n",
        "from tensorflow.keras.models import Sequential\n",
        "from tensorflow.keras.layers import Dense, Conv1D, MaxPooling1D, Flatten, LSTM\n",
        "import tensorflow as tf\n",
        "import numpy as np\n",
        "import sys\n",
        "\n",
        "# Set up parameters\n",
        "NUM_DIGITS = 32\n",
        "NUM_TRAIN_EXAMPLES = 50000\n",
        "EPOCHS = 10\n",
        "BATCH_SIZE = 32"
      ]
    },
    {
      "cell_type": "code",
      "source": [
        "#ANN - No feature engineering\n",
        "X_train = np.random.randint(low=0, high=2**NUM_DIGITS-1, size=(NUM_TRAIN_EXAMPLES,))\n",
        "y_train = [[1,0] if x % 2 == 0 else [0,1] for x in X_train]\n",
        "# Convert to tensor form\n",
        "X_train = tf.convert_to_tensor(X_train)\n",
        "y_train = tf.convert_to_tensor(y_train)\n",
        "\n",
        "# Define model\n",
        "model = tf.keras.Sequential([\n",
        "    tf.keras.layers.Dense(64, activation='relu', input_shape=(1,)),\n",
        "    tf.keras.layers.Dense(32, activation='relu'),\n",
        "    tf.keras.layers.Dense(2, activation='softmax')\n",
        "])\n",
        "\n",
        "model.compile(loss='categorical_crossentropy',optimizer='adam', metrics=['accuracy'])\n",
        "#Train model\n",
        "model.fit(X_train, y_train, validation_split=0.1, epochs=EPOCHS, batch_size=BATCH_SIZE)"
      ],
      "metadata": {
        "colab": {
          "base_uri": "https://localhost:8080/"
        },
        "id": "Wpmc9z2XaPYn",
        "outputId": "7917a5e9-be82-40c3-bd31-dc9691472a7a"
      },
      "execution_count": 2,
      "outputs": [
        {
          "output_type": "stream",
          "name": "stdout",
          "text": [
            "Epoch 1/10\n",
            "1407/1407 [==============================] - 20s 8ms/step - loss: 3970436.0000 - accuracy: 0.5045 - val_loss: 2797817.7500 - val_accuracy: 0.5060\n",
            "Epoch 2/10\n",
            "1407/1407 [==============================] - 6s 4ms/step - loss: 2042411.0000 - accuracy: 0.4998 - val_loss: 1888951.1250 - val_accuracy: 0.5060\n",
            "Epoch 3/10\n",
            "1407/1407 [==============================] - 5s 4ms/step - loss: 1588715.0000 - accuracy: 0.5018 - val_loss: 5212842.0000 - val_accuracy: 0.5060\n",
            "Epoch 4/10\n",
            "1407/1407 [==============================] - 4s 3ms/step - loss: 1195814.0000 - accuracy: 0.4983 - val_loss: 1663167.0000 - val_accuracy: 0.5060\n",
            "Epoch 5/10\n",
            "1407/1407 [==============================] - 5s 3ms/step - loss: 1016798.0625 - accuracy: 0.4995 - val_loss: 1393576.7500 - val_accuracy: 0.4940\n",
            "Epoch 6/10\n",
            "1407/1407 [==============================] - 5s 4ms/step - loss: 779563.0000 - accuracy: 0.4965 - val_loss: 145842.6406 - val_accuracy: 0.4940\n",
            "Epoch 7/10\n",
            "1407/1407 [==============================] - 5s 3ms/step - loss: 757964.7500 - accuracy: 0.4958 - val_loss: 1413300.3750 - val_accuracy: 0.5060\n",
            "Epoch 8/10\n",
            "1407/1407 [==============================] - 5s 4ms/step - loss: 483364.5312 - accuracy: 0.4998 - val_loss: 116367.1719 - val_accuracy: 0.4940\n",
            "Epoch 9/10\n",
            "1407/1407 [==============================] - 5s 3ms/step - loss: 433082.8125 - accuracy: 0.4991 - val_loss: 17536.2285 - val_accuracy: 0.5060\n",
            "Epoch 10/10\n",
            "1407/1407 [==============================] - 5s 3ms/step - loss: 277496.6562 - accuracy: 0.5027 - val_loss: 328922.5312 - val_accuracy: 0.4940\n"
          ]
        },
        {
          "output_type": "execute_result",
          "data": {
            "text/plain": [
              "<keras.callbacks.History at 0x7f1dad7cbd60>"
            ]
          },
          "metadata": {},
          "execution_count": 2
        }
      ]
    },
    {
      "cell_type": "code",
      "source": [
        "#ANN - binary representation\n",
        "X_train = np.random.randint(low=0, high=2**NUM_DIGITS-1, size=(NUM_TRAIN_EXAMPLES,))\n",
        "y_train = [[1,0] if x % 2 == 0 else [0,1] for x in X_train]\n",
        "#Convert to binary representation\n",
        "def to_binary(x):\n",
        "    return [int(d) for d in '{0:b}'.format(x).zfill(NUM_DIGITS)]\n",
        "\n",
        "X_train = [to_binary(x) for x in X_train]\n",
        "\n",
        "# Convert to tensor form\n",
        "X_train = tf.convert_to_tensor(X_train)\n",
        "y_train = tf.convert_to_tensor(y_train)\n",
        "\n",
        "model = tf.keras.Sequential([\n",
        "    tf.keras.layers.Dense(64, activation='relu', input_shape=(NUM_DIGITS,)),\n",
        "    tf.keras.layers.Dense(32, activation='relu'),\n",
        "    tf.keras.layers.Dense(2, activation='softmax')\n",
        "])\n",
        "\n",
        "# Compile the model\n",
        "model.compile(loss='categorical_crossentropy', optimizer='adam', metrics=['accuracy'])\n",
        "model.fit(X_train, y_train, validation_split=0.1, epochs=EPOCHS, batch_size=BATCH_SIZE)"
      ],
      "metadata": {
        "id": "SX4U3RheaxEf",
        "colab": {
          "base_uri": "https://localhost:8080/"
        },
        "outputId": "08817c5e-3466-43c2-dfb9-d66fc1f65d8a"
      },
      "execution_count": 3,
      "outputs": [
        {
          "output_type": "stream",
          "name": "stdout",
          "text": [
            "Epoch 1/10\n",
            "1407/1407 [==============================] - 7s 4ms/step - loss: 0.0372 - accuracy: 0.9881 - val_loss: 9.3312e-05 - val_accuracy: 1.0000\n",
            "Epoch 2/10\n",
            "1407/1407 [==============================] - 5s 3ms/step - loss: 4.2330e-05 - accuracy: 1.0000 - val_loss: 1.7501e-05 - val_accuracy: 1.0000\n",
            "Epoch 3/10\n",
            "1407/1407 [==============================] - 5s 4ms/step - loss: 1.0275e-05 - accuracy: 1.0000 - val_loss: 5.6491e-06 - val_accuracy: 1.0000\n",
            "Epoch 4/10\n",
            "1407/1407 [==============================] - 5s 3ms/step - loss: 3.5868e-06 - accuracy: 1.0000 - val_loss: 2.1466e-06 - val_accuracy: 1.0000\n",
            "Epoch 5/10\n",
            "1407/1407 [==============================] - 5s 3ms/step - loss: 1.4229e-06 - accuracy: 1.0000 - val_loss: 8.9072e-07 - val_accuracy: 1.0000\n",
            "Epoch 6/10\n",
            "1407/1407 [==============================] - 5s 4ms/step - loss: 6.0206e-07 - accuracy: 1.0000 - val_loss: 3.8478e-07 - val_accuracy: 1.0000\n",
            "Epoch 7/10\n",
            "1407/1407 [==============================] - 5s 3ms/step - loss: 2.5910e-07 - accuracy: 1.0000 - val_loss: 1.6446e-07 - val_accuracy: 1.0000\n",
            "Epoch 8/10\n",
            "1407/1407 [==============================] - 5s 4ms/step - loss: 1.1073e-07 - accuracy: 1.0000 - val_loss: 6.9976e-08 - val_accuracy: 1.0000\n",
            "Epoch 9/10\n",
            "1407/1407 [==============================] - 5s 3ms/step - loss: 4.6158e-08 - accuracy: 1.0000 - val_loss: 2.7990e-08 - val_accuracy: 1.0000\n",
            "Epoch 10/10\n",
            "1407/1407 [==============================] - 6s 4ms/step - loss: 1.8644e-08 - accuracy: 1.0000 - val_loss: 1.1110e-08 - val_accuracy: 1.0000\n"
          ]
        },
        {
          "output_type": "execute_result",
          "data": {
            "text/plain": [
              "<keras.callbacks.History at 0x7f1dadb4d7e0>"
            ]
          },
          "metadata": {},
          "execution_count": 3
        }
      ]
    },
    {
      "cell_type": "code",
      "source": [
        "#ANN - base three representation\n",
        "X_train = np.random.randint(low=0, high=2**NUM_DIGITS-1, size=(NUM_TRAIN_EXAMPLES,))\n",
        "y_train = [[1,0] if x % 2 == 0 else [0,1] for x in X_train]\n",
        "#Convert to base-3 list of integers\n",
        "def int_to_base3(num):\n",
        "    base3_list = []\n",
        "    while num > 0:\n",
        "        base3_list.insert(0, num % 3)\n",
        "        num //= 3\n",
        "\n",
        "    # Pad with zeros up to 32 digits\n",
        "    while len(base3_list) < 32:\n",
        "        base3_list.insert(0, 0)\n",
        "\n",
        "    return base3_list\n",
        "\n",
        "X_train = [int_to_base3(x) for x in X_train]\n",
        "X_train = tf.convert_to_tensor(X_train)\n",
        "y_train = tf.convert_to_tensor(y_train)\n",
        "\n",
        "model = tf.keras.Sequential([\n",
        "    tf.keras.layers.Dense(64, activation='relu', input_shape=(32,)),\n",
        "    tf.keras.layers.Dense(32, activation='relu'),\n",
        "    tf.keras.layers.Flatten(),\n",
        "    tf.keras.layers.Dense(2, activation='softmax')\n",
        "])\n",
        "\n",
        "model.compile(loss='categorical_crossentropy', optimizer='adam', metrics=['accuracy'])\n",
        "model.fit(X_train, y_train, validation_split=0.1, epochs=EPOCHS, batch_size=BATCH_SIZE)"
      ],
      "metadata": {
        "colab": {
          "base_uri": "https://localhost:8080/"
        },
        "id": "oFKZFe1Va7az",
        "outputId": "cdeb1f36-7d1e-4ad6-9298-3806e499d5b6"
      },
      "execution_count": 4,
      "outputs": [
        {
          "output_type": "stream",
          "name": "stdout",
          "text": [
            "Epoch 1/10\n",
            "1407/1407 [==============================] - 6s 3ms/step - loss: 0.6982 - accuracy: 0.5022 - val_loss: 0.6974 - val_accuracy: 0.4980\n",
            "Epoch 2/10\n",
            "1407/1407 [==============================] - 5s 4ms/step - loss: 0.6940 - accuracy: 0.5079 - val_loss: 0.6941 - val_accuracy: 0.5052\n",
            "Epoch 3/10\n",
            "1407/1407 [==============================] - 5s 3ms/step - loss: 0.6933 - accuracy: 0.5074 - val_loss: 0.6950 - val_accuracy: 0.4942\n",
            "Epoch 4/10\n",
            "1407/1407 [==============================] - 4s 3ms/step - loss: 0.6927 - accuracy: 0.5139 - val_loss: 0.6947 - val_accuracy: 0.4978\n",
            "Epoch 5/10\n",
            "1407/1407 [==============================] - 5s 4ms/step - loss: 0.6919 - accuracy: 0.5189 - val_loss: 0.6968 - val_accuracy: 0.4998\n",
            "Epoch 6/10\n",
            "1407/1407 [==============================] - 4s 3ms/step - loss: 0.6912 - accuracy: 0.5224 - val_loss: 0.6960 - val_accuracy: 0.4930\n",
            "Epoch 7/10\n",
            "1407/1407 [==============================] - 5s 3ms/step - loss: 0.6905 - accuracy: 0.5274 - val_loss: 0.6961 - val_accuracy: 0.4870\n",
            "Epoch 8/10\n",
            "1407/1407 [==============================] - 5s 3ms/step - loss: 0.6890 - accuracy: 0.5326 - val_loss: 0.6988 - val_accuracy: 0.4932\n",
            "Epoch 9/10\n",
            "1407/1407 [==============================] - 4s 3ms/step - loss: 0.6872 - accuracy: 0.5391 - val_loss: 0.6980 - val_accuracy: 0.4912\n",
            "Epoch 10/10\n",
            "1407/1407 [==============================] - 5s 4ms/step - loss: 0.6857 - accuracy: 0.5448 - val_loss: 0.6995 - val_accuracy: 0.4988\n"
          ]
        },
        {
          "output_type": "execute_result",
          "data": {
            "text/plain": [
              "<keras.callbacks.History at 0x7f1d0f609300>"
            ]
          },
          "metadata": {},
          "execution_count": 4
        }
      ]
    },
    {
      "cell_type": "code",
      "source": [
        "#ANN - one gram encoding\n",
        "X_train = np.random.randint(low=0, high=2**NUM_DIGITS-1, size=(NUM_TRAIN_EXAMPLES,))\n",
        "y_train = [[1,0] if x % 2 == 0 else [0,1] for x in X_train]\n",
        "#Convert to sequences of digits\n",
        "def to_sequence(x):\n",
        "    return [int(d) for d in str(x)]\n",
        "\n",
        "X_train = [to_sequence(x) for x in X_train]\n",
        "\n",
        "# Pad the sequences with zeros\n",
        "X_train = [[0]*(NUM_DIGITS-len(x))+x for x in X_train]\n",
        "\n",
        "X_train = tf.convert_to_tensor(X_train)\n",
        "y_train = tf.convert_to_tensor(y_train)\n",
        "\n",
        "model = tf.keras.Sequential([\n",
        "    tf.keras.layers.Dense(64, activation='relu', input_shape=(NUM_DIGITS,)),\n",
        "    tf.keras.layers.Dense(32, activation='relu'),\n",
        "    tf.keras.layers.Flatten(),\n",
        "    tf.keras.layers.Dense(2, activation='softmax')\n",
        "])\n",
        "\n",
        "model.compile(loss='categorical_crossentropy', optimizer='adam', metrics=['accuracy'])\n",
        "model.fit(X_train, y_train, validation_split=0.1, epochs=EPOCHS, batch_size=BATCH_SIZE)"
      ],
      "metadata": {
        "colab": {
          "base_uri": "https://localhost:8080/"
        },
        "id": "_bzJaBN4bZ-H",
        "outputId": "3a9a15ed-996c-4b20-9c32-a40fae5b9714"
      },
      "execution_count": 5,
      "outputs": [
        {
          "output_type": "stream",
          "name": "stdout",
          "text": [
            "Epoch 1/10\n",
            "1407/1407 [==============================] - 6s 3ms/step - loss: 0.6835 - accuracy: 0.5454 - val_loss: 0.6473 - val_accuracy: 0.5340\n",
            "Epoch 2/10\n",
            "1407/1407 [==============================] - 5s 4ms/step - loss: 0.5966 - accuracy: 0.6073 - val_loss: 0.5466 - val_accuracy: 0.6512\n",
            "Epoch 3/10\n",
            "1407/1407 [==============================] - 5s 3ms/step - loss: 0.5193 - accuracy: 0.6558 - val_loss: 0.4867 - val_accuracy: 0.6820\n",
            "Epoch 4/10\n",
            "1407/1407 [==============================] - 4s 3ms/step - loss: 0.4623 - accuracy: 0.7050 - val_loss: 0.4280 - val_accuracy: 0.7454\n",
            "Epoch 5/10\n",
            "1407/1407 [==============================] - 5s 4ms/step - loss: 0.4169 - accuracy: 0.7382 - val_loss: 0.3996 - val_accuracy: 0.7596\n",
            "Epoch 6/10\n",
            "1407/1407 [==============================] - 4s 3ms/step - loss: 0.3589 - accuracy: 0.7682 - val_loss: 0.3205 - val_accuracy: 0.7950\n",
            "Epoch 7/10\n",
            "1407/1407 [==============================] - 5s 4ms/step - loss: 0.3130 - accuracy: 0.7953 - val_loss: 0.2857 - val_accuracy: 0.7976\n",
            "Epoch 8/10\n",
            "1407/1407 [==============================] - 5s 4ms/step - loss: 0.2905 - accuracy: 0.7980 - val_loss: 0.2763 - val_accuracy: 0.7982\n",
            "Epoch 9/10\n",
            "1407/1407 [==============================] - 4s 3ms/step - loss: 0.2821 - accuracy: 0.7969 - val_loss: 0.3313 - val_accuracy: 0.7984\n",
            "Epoch 10/10\n",
            "1407/1407 [==============================] - 5s 4ms/step - loss: 0.3000 - accuracy: 0.7987 - val_loss: 0.3344 - val_accuracy: 0.7950\n"
          ]
        },
        {
          "output_type": "execute_result",
          "data": {
            "text/plain": [
              "<keras.callbacks.History at 0x7f1d0f6f6c80>"
            ]
          },
          "metadata": {},
          "execution_count": 5
        }
      ]
    },
    {
      "cell_type": "code",
      "source": [
        "# ANN - two gram encoding\n",
        "X_train = np.random.randint(low=0, high=2**NUM_DIGITS-1, size=(NUM_TRAIN_EXAMPLES,))\n",
        "y_train = [[1,0] if x % 2 == 0 else [0,1] for x in X_train]\n",
        "#convert to two gram\n",
        "def two_gram_consec(num):\n",
        "\n",
        "    str_num = str(num).zfill(32)\n",
        "\n",
        "    two_grams = []\n",
        "\n",
        "    for i in range(31):\n",
        "        two_gram = [int(str_num[i]), int(str_num[i+1])]\n",
        "        two_grams.append(two_gram)\n",
        "\n",
        "    return two_grams\n",
        "\n",
        "X_train = [two_gram_consec(x) for x in X_train]\n",
        "X_train = tf.convert_to_tensor(X_train)\n",
        "y_train = tf.convert_to_tensor(y_train)\n",
        "\n",
        "model = tf.keras.Sequential([\n",
        "    tf.keras.layers.Dense(64, activation='relu', input_shape=(31,2)),\n",
        "    tf.keras.layers.Dense(32, activation='relu'),\n",
        "    tf.keras.layers.Flatten(),\n",
        "    tf.keras.layers.Dense(2, activation='softmax')\n",
        "])\n",
        "\n",
        "model.compile(loss='categorical_crossentropy', optimizer='adam', metrics=['accuracy'])\n",
        "model.fit(X_train, y_train, validation_split=0.1, epochs=EPOCHS, batch_size=BATCH_SIZE)"
      ],
      "metadata": {
        "colab": {
          "base_uri": "https://localhost:8080/"
        },
        "id": "iY8--kFWcPFX",
        "outputId": "b1c03f42-4791-4745-fa38-cbce41628f81"
      },
      "execution_count": 6,
      "outputs": [
        {
          "output_type": "stream",
          "name": "stdout",
          "text": [
            "Epoch 1/10\n",
            "1407/1407 [==============================] - 8s 5ms/step - loss: 0.6415 - accuracy: 0.5714 - val_loss: 0.6186 - val_accuracy: 0.5934\n",
            "Epoch 2/10\n",
            "1407/1407 [==============================] - 6s 4ms/step - loss: 0.5584 - accuracy: 0.6428 - val_loss: 0.5416 - val_accuracy: 0.6430\n",
            "Epoch 3/10\n",
            "1407/1407 [==============================] - 6s 4ms/step - loss: 0.5345 - accuracy: 0.6538 - val_loss: 0.5372 - val_accuracy: 0.6444\n",
            "Epoch 4/10\n",
            "1407/1407 [==============================] - 6s 4ms/step - loss: 0.5281 - accuracy: 0.6550 - val_loss: 0.5270 - val_accuracy: 0.6524\n",
            "Epoch 5/10\n",
            "1407/1407 [==============================] - 7s 5ms/step - loss: 0.5108 - accuracy: 0.6676 - val_loss: 0.5033 - val_accuracy: 0.6724\n",
            "Epoch 6/10\n",
            "1407/1407 [==============================] - 6s 4ms/step - loss: 0.4879 - accuracy: 0.6818 - val_loss: 0.4743 - val_accuracy: 0.7012\n",
            "Epoch 7/10\n",
            "1407/1407 [==============================] - 6s 4ms/step - loss: 0.4645 - accuracy: 0.7100 - val_loss: 0.4522 - val_accuracy: 0.7256\n",
            "Epoch 8/10\n",
            "1407/1407 [==============================] - 6s 4ms/step - loss: 0.4397 - accuracy: 0.7326 - val_loss: 0.4281 - val_accuracy: 0.7422\n",
            "Epoch 9/10\n",
            "1407/1407 [==============================] - 6s 4ms/step - loss: 0.4167 - accuracy: 0.7468 - val_loss: 0.3988 - val_accuracy: 0.7816\n",
            "Epoch 10/10\n",
            "1407/1407 [==============================] - 7s 5ms/step - loss: 0.3997 - accuracy: 0.7586 - val_loss: 0.3932 - val_accuracy: 0.7392\n"
          ]
        },
        {
          "output_type": "execute_result",
          "data": {
            "text/plain": [
              "<keras.callbacks.History at 0x7f1d29e57f10>"
            ]
          },
          "metadata": {},
          "execution_count": 6
        }
      ]
    },
    {
      "cell_type": "code",
      "source": [
        "#ANN - three gram encoding\n",
        "X_train = np.random.randint(low=0, high=2**NUM_DIGITS-1, size=(NUM_TRAIN_EXAMPLES,))\n",
        "y_train = [[1,0] if x % 2 == 0 else [0,1] for x in X_train]\n",
        "\n",
        "# three_gram_consec encoding\n",
        "def three_gram_consec(num):\n",
        "    # Convert the integer to a string with 32+1 digits\n",
        "    str_num = str(num).zfill(32)\n",
        "\n",
        "    # Create a list to store the three-grams\n",
        "    three_grams = []\n",
        "\n",
        "    # Iterate over the string and create three-grams\n",
        "    for i in range(30):\n",
        "        three_gram = [int(str_num[i]), int(str_num[i+1]), int(str_num[i+2])]\n",
        "        three_grams.append(three_gram)\n",
        "\n",
        "    # Return the list of three-grams\n",
        "    return three_grams\n",
        "\n",
        "X_train = [three_gram_consec(x) for x in X_train]\n",
        "X_train = tf.convert_to_tensor(X_train)\n",
        "y_train = tf.convert_to_tensor(y_train)\n",
        "\n",
        "model = tf.keras.Sequential([\n",
        "    tf.keras.layers.Dense(64, activation='relu', input_shape=(30,3)),\n",
        "    tf.keras.layers.Dense(32, activation='relu'),\n",
        "    tf.keras.layers.Flatten(),\n",
        "    tf.keras.layers.Dense(2, activation='softmax')\n",
        "])\n",
        "\n",
        "model.compile(loss='categorical_crossentropy', optimizer='adam', metrics=['accuracy'])\n",
        "model.fit(X_train, y_train, validation_split=0.1, epochs=EPOCHS, batch_size=BATCH_SIZE)"
      ],
      "metadata": {
        "id": "nCQzlYrtcu_h",
        "colab": {
          "base_uri": "https://localhost:8080/"
        },
        "outputId": "743d712e-d0da-4fb6-a0af-e796283cfc57"
      },
      "execution_count": 7,
      "outputs": [
        {
          "output_type": "stream",
          "name": "stdout",
          "text": [
            "Epoch 1/10\n",
            "1407/1407 [==============================] - 8s 5ms/step - loss: 0.6441 - accuracy: 0.5679 - val_loss: 0.6031 - val_accuracy: 0.6020\n",
            "Epoch 2/10\n",
            "1407/1407 [==============================] - 6s 4ms/step - loss: 0.5726 - accuracy: 0.6259 - val_loss: 0.5403 - val_accuracy: 0.6444\n",
            "Epoch 3/10\n",
            "1407/1407 [==============================] - 6s 5ms/step - loss: 0.5349 - accuracy: 0.6469 - val_loss: 0.5292 - val_accuracy: 0.6454\n",
            "Epoch 4/10\n",
            "1407/1407 [==============================] - 6s 4ms/step - loss: 0.5251 - accuracy: 0.6551 - val_loss: 0.5267 - val_accuracy: 0.6544\n",
            "Epoch 5/10\n",
            "1407/1407 [==============================] - 6s 5ms/step - loss: 0.5177 - accuracy: 0.6663 - val_loss: 0.5176 - val_accuracy: 0.6508\n",
            "Epoch 6/10\n",
            "1407/1407 [==============================] - 6s 4ms/step - loss: 0.5086 - accuracy: 0.6741 - val_loss: 0.5175 - val_accuracy: 0.6678\n",
            "Epoch 7/10\n",
            "1407/1407 [==============================] - 6s 5ms/step - loss: 0.4905 - accuracy: 0.6806 - val_loss: 0.4780 - val_accuracy: 0.6544\n",
            "Epoch 8/10\n",
            "1407/1407 [==============================] - 6s 4ms/step - loss: 0.4467 - accuracy: 0.7224 - val_loss: 0.4219 - val_accuracy: 0.7426\n",
            "Epoch 9/10\n",
            "1407/1407 [==============================] - 7s 5ms/step - loss: 0.4073 - accuracy: 0.7489 - val_loss: 0.4068 - val_accuracy: 0.7484\n",
            "Epoch 10/10\n",
            "1407/1407 [==============================] - 6s 4ms/step - loss: 0.3922 - accuracy: 0.7523 - val_loss: 0.3948 - val_accuracy: 0.7554\n"
          ]
        },
        {
          "output_type": "execute_result",
          "data": {
            "text/plain": [
              "<keras.callbacks.History at 0x7f1d284e59f0>"
            ]
          },
          "metadata": {},
          "execution_count": 7
        }
      ]
    },
    {
      "cell_type": "code",
      "source": [
        "#ANN - one gram + two gram encoding\n",
        "X_train = np.random.randint(low=0, high=2**NUM_DIGITS-1, size=(NUM_TRAIN_EXAMPLES,))\n",
        "y_train = [[1,0] if x % 2 == 0 else [0,1] for x in X_train]\n",
        "\n",
        "def one_gram_plus_two_gram(num):\n",
        "    num_str = str(num).zfill(32)\n",
        "    one_gram = [[0,0,int(x)] for x in num_str]\n",
        "    two_gram = [[0,int(num_str[i]), int(num_str[i+1])] for i in range(31)]\n",
        "    return one_gram+two_gram\n",
        "\n",
        "X_train = [one_gram_plus_two_gram(x) for x in X_train]\n",
        "\n",
        "\n",
        "X_train = tf.convert_to_tensor(X_train)\n",
        "y_train = tf.convert_to_tensor(y_train)\n",
        "\n",
        "model = tf.keras.Sequential([\n",
        "    tf.keras.layers.Dense(64, activation='relu', input_shape=(63,3)),\n",
        "    tf.keras.layers.Dense(32, activation='relu'),\n",
        "    tf.keras.layers.Flatten(),\n",
        "    tf.keras.layers.Dense(2, activation='softmax')\n",
        "])\n",
        "\n",
        "model.compile(loss='categorical_crossentropy', optimizer='adam', metrics=['accuracy'])\n",
        "model.fit(X_train, y_train, validation_split=0.1, epochs=EPOCHS, batch_size=BATCH_SIZE)"
      ],
      "metadata": {
        "colab": {
          "base_uri": "https://localhost:8080/"
        },
        "id": "sWf0NgOEdCep",
        "outputId": "ccc38f0d-7324-4a75-c0db-a90325d13469"
      },
      "execution_count": 8,
      "outputs": [
        {
          "output_type": "stream",
          "name": "stdout",
          "text": [
            "Epoch 1/10\n",
            "1407/1407 [==============================] - 7s 4ms/step - loss: 0.6188 - accuracy: 0.5941 - val_loss: 0.5610 - val_accuracy: 0.6418\n",
            "Epoch 2/10\n",
            "1407/1407 [==============================] - 6s 5ms/step - loss: 0.5390 - accuracy: 0.6496 - val_loss: 0.5305 - val_accuracy: 0.6478\n",
            "Epoch 3/10\n",
            "1407/1407 [==============================] - 6s 4ms/step - loss: 0.5297 - accuracy: 0.6545 - val_loss: 0.5200 - val_accuracy: 0.6492\n",
            "Epoch 4/10\n",
            "1407/1407 [==============================] - 7s 5ms/step - loss: 0.5039 - accuracy: 0.6732 - val_loss: 0.4823 - val_accuracy: 0.6808\n",
            "Epoch 5/10\n",
            "1407/1407 [==============================] - 5s 4ms/step - loss: 0.4556 - accuracy: 0.7246 - val_loss: 0.4154 - val_accuracy: 0.7582\n",
            "Epoch 6/10\n",
            "1407/1407 [==============================] - 7s 5ms/step - loss: 0.4054 - accuracy: 0.7522 - val_loss: 0.3920 - val_accuracy: 0.7550\n",
            "Epoch 7/10\n",
            "1407/1407 [==============================] - 5s 4ms/step - loss: 0.3952 - accuracy: 0.7531 - val_loss: 0.3845 - val_accuracy: 0.7730\n",
            "Epoch 8/10\n",
            "1407/1407 [==============================] - 6s 4ms/step - loss: 0.3925 - accuracy: 0.7516 - val_loss: 0.3877 - val_accuracy: 0.7456\n",
            "Epoch 9/10\n",
            "1407/1407 [==============================] - 6s 4ms/step - loss: 0.3876 - accuracy: 0.7544 - val_loss: 0.3769 - val_accuracy: 0.7618\n",
            "Epoch 10/10\n",
            "1407/1407 [==============================] - 6s 4ms/step - loss: 0.3819 - accuracy: 0.7552 - val_loss: 0.3697 - val_accuracy: 0.7598\n"
          ]
        },
        {
          "output_type": "execute_result",
          "data": {
            "text/plain": [
              "<keras.callbacks.History at 0x7f1dadb0a8c0>"
            ]
          },
          "metadata": {},
          "execution_count": 8
        }
      ]
    },
    {
      "cell_type": "code",
      "source": [
        "#ANN - one + two + three gram encoding\n",
        "X_train = np.random.randint(low=0, high=2**NUM_DIGITS-1, size=(NUM_TRAIN_EXAMPLES,))\n",
        "y_train = [[1,0] if x % 2 == 0 else [0,1] for x in X_train]\n",
        "\n",
        "def multi_gram(num):\n",
        "    num_str = str(num).zfill(32)\n",
        "    one_gram = [[0,0,int(x)] for x in num_str]\n",
        "    two_gram = [[0,int(num_str[i]), int(num_str[i+1])] for i in range(31)]\n",
        "    three_gram = [[int(num_str[i]), int(num_str[i+1]), int(num_str[i+2])] for i in range(30)]\n",
        "    return one_gram+two_gram+three_gram\n",
        "\n",
        "X_train = [multi_gram(x) for x in X_train]\n",
        "X_train = tf.convert_to_tensor(X_train)\n",
        "y_train = tf.convert_to_tensor(y_train)\n",
        "\n",
        "model = tf.keras.Sequential([\n",
        "    tf.keras.layers.Dense(64, activation='relu', input_shape=(93,3)),\n",
        "    tf.keras.layers.Dense(32, activation='relu'),\n",
        "    tf.keras.layers.Flatten(),\n",
        "    tf.keras.layers.Dense(2, activation='softmax')\n",
        "])\n",
        "\n",
        "model.compile(loss='categorical_crossentropy', optimizer='adam', metrics=['accuracy'])\n",
        "model.fit(X_train, y_train, validation_split=0.1, epochs=EPOCHS, batch_size=BATCH_SIZE)"
      ],
      "metadata": {
        "id": "ibheFy0pdQJe",
        "colab": {
          "base_uri": "https://localhost:8080/"
        },
        "outputId": "57a701eb-f94c-4e5d-c043-a1be8389968f"
      },
      "execution_count": 9,
      "outputs": [
        {
          "output_type": "stream",
          "name": "stdout",
          "text": [
            "Epoch 1/10\n",
            "1407/1407 [==============================] - 8s 5ms/step - loss: 0.6410 - accuracy: 0.5721 - val_loss: 0.5959 - val_accuracy: 0.6144\n",
            "Epoch 2/10\n",
            "1407/1407 [==============================] - 6s 4ms/step - loss: 0.5546 - accuracy: 0.6415 - val_loss: 0.5330 - val_accuracy: 0.6452\n",
            "Epoch 3/10\n",
            "1407/1407 [==============================] - 6s 4ms/step - loss: 0.5287 - accuracy: 0.6531 - val_loss: 0.5165 - val_accuracy: 0.6588\n",
            "Epoch 4/10\n",
            "1407/1407 [==============================] - 5s 4ms/step - loss: 0.4780 - accuracy: 0.7006 - val_loss: 0.4272 - val_accuracy: 0.7256\n",
            "Epoch 5/10\n",
            "1407/1407 [==============================] - 6s 5ms/step - loss: 0.4059 - accuracy: 0.7515 - val_loss: 0.3963 - val_accuracy: 0.7462\n",
            "Epoch 6/10\n",
            "1407/1407 [==============================] - 5s 4ms/step - loss: 0.3957 - accuracy: 0.7563 - val_loss: 0.3925 - val_accuracy: 0.7488\n",
            "Epoch 7/10\n",
            "1407/1407 [==============================] - 6s 5ms/step - loss: 0.3928 - accuracy: 0.7573 - val_loss: 0.3901 - val_accuracy: 0.7622\n",
            "Epoch 8/10\n",
            "1407/1407 [==============================] - 6s 4ms/step - loss: 0.3905 - accuracy: 0.7546 - val_loss: 0.3855 - val_accuracy: 0.7550\n",
            "Epoch 9/10\n",
            "1407/1407 [==============================] - 6s 5ms/step - loss: 0.3779 - accuracy: 0.7535 - val_loss: 0.3692 - val_accuracy: 0.7534\n",
            "Epoch 10/10\n",
            "1407/1407 [==============================] - 5s 4ms/step - loss: 0.3617 - accuracy: 0.7693 - val_loss: 0.3544 - val_accuracy: 0.7726\n"
          ]
        },
        {
          "output_type": "execute_result",
          "data": {
            "text/plain": [
              "<keras.callbacks.History at 0x7f1c9b4ebd60>"
            ]
          },
          "metadata": {},
          "execution_count": 9
        }
      ]
    },
    {
      "cell_type": "code",
      "source": [
        "#CNN - one gram encoding\n",
        "X_train = np.random.randint(low=0, high=2**NUM_DIGITS-1, size=(NUM_TRAIN_EXAMPLES,))\n",
        "y_train = np.array([[1,0] if x % 2 == 0 else [0,1] for x in X_train])\n",
        "\n",
        "# Convert to sequences of digits\n",
        "def to_sequence(x):\n",
        "    return [int(d) for d in str(x)]\n",
        "\n",
        "X_train = [to_sequence(x) for x in X_train]\n",
        "\n",
        "# Pad the sequences with zeros\n",
        "X_train = np.array([[0]*(10-len(x))+x for x in X_train])\n",
        "\n",
        "# Reshape the data for CNN input\n",
        "X_train = X_train.reshape(-1, 10, 1)\n",
        "# Define the model\n",
        "model = Sequential()\n",
        "model.add(Conv1D(32, kernel_size=3, activation='relu', input_shape=(10, 1)))\n",
        "model.add(MaxPooling1D(pool_size=2))\n",
        "model.add(Conv1D(64, kernel_size=3, activation='relu'))\n",
        "model.add(MaxPooling1D(pool_size=2))\n",
        "model.add(Flatten())\n",
        "model.add(Dense(64, activation='relu'))\n",
        "model.add(Dense(2, activation='sigmoid'))\n",
        "\n",
        "# Compile the model\n",
        "model.compile(loss='binary_crossentropy', optimizer='adam', metrics=['accuracy'])\n",
        "\n",
        "# Train the model\n",
        "model.fit(X_train, y_train, validation_split=0.1, epochs=EPOCHS, batch_size=BATCH_SIZE)"
      ],
      "metadata": {
        "colab": {
          "base_uri": "https://localhost:8080/"
        },
        "id": "NpHQOCCgdZwm",
        "outputId": "7813cdbb-7824-4987-8e86-c0bc9bc9180f"
      },
      "execution_count": 10,
      "outputs": [
        {
          "output_type": "stream",
          "name": "stdout",
          "text": [
            "Epoch 1/10\n",
            "1407/1407 [==============================] - 12s 4ms/step - loss: 0.6831 - accuracy: 0.5442 - val_loss: 0.6620 - val_accuracy: 0.5566\n",
            "Epoch 2/10\n",
            "1407/1407 [==============================] - 6s 5ms/step - loss: 0.6409 - accuracy: 0.5859 - val_loss: 0.6283 - val_accuracy: 0.5900\n",
            "Epoch 3/10\n",
            "1407/1407 [==============================] - 6s 4ms/step - loss: 0.6233 - accuracy: 0.5937 - val_loss: 0.6123 - val_accuracy: 0.5864\n",
            "Epoch 4/10\n",
            "1407/1407 [==============================] - 6s 5ms/step - loss: 0.6065 - accuracy: 0.6036 - val_loss: 0.6149 - val_accuracy: 0.5884\n",
            "Epoch 5/10\n",
            "1407/1407 [==============================] - 6s 4ms/step - loss: 0.5894 - accuracy: 0.6147 - val_loss: 0.5805 - val_accuracy: 0.6164\n",
            "Epoch 6/10\n",
            "1407/1407 [==============================] - 7s 5ms/step - loss: 0.5764 - accuracy: 0.6300 - val_loss: 0.5666 - val_accuracy: 0.6300\n",
            "Epoch 7/10\n",
            "1407/1407 [==============================] - 6s 4ms/step - loss: 0.5653 - accuracy: 0.6368 - val_loss: 0.5619 - val_accuracy: 0.6366\n",
            "Epoch 8/10\n",
            "1407/1407 [==============================] - 6s 5ms/step - loss: 0.5555 - accuracy: 0.6448 - val_loss: 0.5540 - val_accuracy: 0.6306\n",
            "Epoch 9/10\n",
            "1407/1407 [==============================] - 6s 4ms/step - loss: 0.5462 - accuracy: 0.6503 - val_loss: 0.5381 - val_accuracy: 0.6518\n",
            "Epoch 10/10\n",
            "1407/1407 [==============================] - 6s 5ms/step - loss: 0.5373 - accuracy: 0.6585 - val_loss: 0.5472 - val_accuracy: 0.6496\n"
          ]
        },
        {
          "output_type": "execute_result",
          "data": {
            "text/plain": [
              "<keras.callbacks.History at 0x7f1c92fb5ff0>"
            ]
          },
          "metadata": {},
          "execution_count": 10
        }
      ]
    },
    {
      "cell_type": "code",
      "source": [
        "#RNN - one gram encoding\n",
        "X_train = np.random.randint(low=0, high=2**NUM_DIGITS-1, size=(NUM_TRAIN_EXAMPLES,))\n",
        "y_train = np.array([[1,0] if x % 2 == 0 else [0,1] for x in X_train])\n",
        "\n",
        "\n",
        "# Convert to sequences of digits\n",
        "def to_sequence(x):\n",
        "    return [int(d) for d in str(x)]\n",
        "\n",
        "X_train = [to_sequence(x) for x in X_train]\n",
        "\n",
        "# Pad the sequences with zeros\n",
        "X_train = np.array([[0]*(10-len(x))+x for x in X_train])\n",
        "# Reshape the data for RNN input\n",
        "X_train = X_train.reshape(-1, 10, 1)\n",
        "\n",
        "# Define the model\n",
        "model = Sequential()\n",
        "model.add(LSTM(32, input_shape=(10, 1)))\n",
        "model.add(Dense(2, activation='sigmoid'))\n",
        "\n",
        "# Compile the model\n",
        "model.compile(loss='binary_crossentropy', optimizer='adam', metrics=['accuracy'])\n",
        "# Train the model\n",
        "model.fit(X_train, y_train, validation_split=0.1, epochs=EPOCHS, batch_size=BATCH_SIZE)"
      ],
      "metadata": {
        "colab": {
          "base_uri": "https://localhost:8080/"
        },
        "id": "Zwci-zrqeMHt",
        "outputId": "395a7882-a247-4ee3-a183-b4b2e72bb471"
      },
      "execution_count": 11,
      "outputs": [
        {
          "output_type": "stream",
          "name": "stdout",
          "text": [
            "Epoch 1/10\n",
            "1407/1407 [==============================] - 11s 5ms/step - loss: 0.6798 - accuracy: 0.5455 - val_loss: 0.6767 - val_accuracy: 0.5080\n",
            "Epoch 2/10\n",
            "1407/1407 [==============================] - 6s 5ms/step - loss: 0.6613 - accuracy: 0.5379 - val_loss: 0.6373 - val_accuracy: 0.6152\n",
            "Epoch 3/10\n",
            "1407/1407 [==============================] - 7s 5ms/step - loss: 0.6250 - accuracy: 0.6197 - val_loss: 0.6144 - val_accuracy: 0.6018\n",
            "Epoch 4/10\n",
            "1407/1407 [==============================] - 7s 5ms/step - loss: 0.6098 - accuracy: 0.6517 - val_loss: 0.6046 - val_accuracy: 0.6928\n",
            "Epoch 5/10\n",
            "1407/1407 [==============================] - 7s 5ms/step - loss: 0.5972 - accuracy: 0.6120 - val_loss: 0.5875 - val_accuracy: 0.5058\n",
            "Epoch 6/10\n",
            "1407/1407 [==============================] - 7s 5ms/step - loss: 0.5787 - accuracy: 0.5673 - val_loss: 0.5687 - val_accuracy: 0.5174\n",
            "Epoch 7/10\n",
            "1407/1407 [==============================] - 6s 5ms/step - loss: 0.5597 - accuracy: 0.5723 - val_loss: 0.5519 - val_accuracy: 0.5776\n",
            "Epoch 8/10\n",
            "1407/1407 [==============================] - 7s 5ms/step - loss: 0.5435 - accuracy: 0.5998 - val_loss: 0.5365 - val_accuracy: 0.6030\n",
            "Epoch 9/10\n",
            "1407/1407 [==============================] - 6s 5ms/step - loss: 0.5302 - accuracy: 0.6079 - val_loss: 0.5260 - val_accuracy: 0.5870\n",
            "Epoch 10/10\n",
            "1407/1407 [==============================] - 7s 5ms/step - loss: 0.5199 - accuracy: 0.6252 - val_loss: 0.5167 - val_accuracy: 0.6418\n"
          ]
        },
        {
          "output_type": "execute_result",
          "data": {
            "text/plain": [
              "<keras.callbacks.History at 0x7f1c9b62bbb0>"
            ]
          },
          "metadata": {},
          "execution_count": 11
        }
      ]
    },
    {
      "cell_type": "code",
      "source": [
        "!pip install transformers"
      ],
      "metadata": {
        "colab": {
          "base_uri": "https://localhost:8080/"
        },
        "id": "_pRsJfvoqKDY",
        "outputId": "b19365b5-a669-4b7f-f753-01068858341a"
      },
      "execution_count": 12,
      "outputs": [
        {
          "output_type": "stream",
          "name": "stdout",
          "text": [
            "Looking in indexes: https://pypi.org/simple, https://us-python.pkg.dev/colab-wheels/public/simple/\n",
            "Collecting transformers\n",
            "  Downloading transformers-4.30.2-py3-none-any.whl (7.2 MB)\n",
            "\u001b[2K     \u001b[90m━━━━━━━━━━━━━━━━━━━━━━━━━━━━━━━━━━━━━━━━\u001b[0m \u001b[32m7.2/7.2 MB\u001b[0m \u001b[31m91.7 MB/s\u001b[0m eta \u001b[36m0:00:00\u001b[0m\n",
            "\u001b[?25hRequirement already satisfied: filelock in /usr/local/lib/python3.10/dist-packages (from transformers) (3.12.0)\n",
            "Collecting huggingface-hub<1.0,>=0.14.1 (from transformers)\n",
            "  Downloading huggingface_hub-0.15.1-py3-none-any.whl (236 kB)\n",
            "\u001b[2K     \u001b[90m━━━━━━━━━━━━━━━━━━━━━━━━━━━━━━━━━━━━━━\u001b[0m \u001b[32m236.8/236.8 kB\u001b[0m \u001b[31m31.6 MB/s\u001b[0m eta \u001b[36m0:00:00\u001b[0m\n",
            "\u001b[?25hRequirement already satisfied: numpy>=1.17 in /usr/local/lib/python3.10/dist-packages (from transformers) (1.22.4)\n",
            "Requirement already satisfied: packaging>=20.0 in /usr/local/lib/python3.10/dist-packages (from transformers) (23.1)\n",
            "Requirement already satisfied: pyyaml>=5.1 in /usr/local/lib/python3.10/dist-packages (from transformers) (6.0)\n",
            "Requirement already satisfied: regex!=2019.12.17 in /usr/local/lib/python3.10/dist-packages (from transformers) (2022.10.31)\n",
            "Requirement already satisfied: requests in /usr/local/lib/python3.10/dist-packages (from transformers) (2.27.1)\n",
            "Collecting tokenizers!=0.11.3,<0.14,>=0.11.1 (from transformers)\n",
            "  Downloading tokenizers-0.13.3-cp310-cp310-manylinux_2_17_x86_64.manylinux2014_x86_64.whl (7.8 MB)\n",
            "\u001b[2K     \u001b[90m━━━━━━━━━━━━━━━━━━━━━━━━━━━━━━━━━━━━━━━━\u001b[0m \u001b[32m7.8/7.8 MB\u001b[0m \u001b[31m100.4 MB/s\u001b[0m eta \u001b[36m0:00:00\u001b[0m\n",
            "\u001b[?25hCollecting safetensors>=0.3.1 (from transformers)\n",
            "  Downloading safetensors-0.3.1-cp310-cp310-manylinux_2_17_x86_64.manylinux2014_x86_64.whl (1.3 MB)\n",
            "\u001b[2K     \u001b[90m━━━━━━━━━━━━━━━━━━━━━━━━━━━━━━━━━━━━━━━━\u001b[0m \u001b[32m1.3/1.3 MB\u001b[0m \u001b[31m30.8 MB/s\u001b[0m eta \u001b[36m0:00:00\u001b[0m\n",
            "\u001b[?25hRequirement already satisfied: tqdm>=4.27 in /usr/local/lib/python3.10/dist-packages (from transformers) (4.65.0)\n",
            "Requirement already satisfied: fsspec in /usr/local/lib/python3.10/dist-packages (from huggingface-hub<1.0,>=0.14.1->transformers) (2023.4.0)\n",
            "Requirement already satisfied: typing-extensions>=3.7.4.3 in /usr/local/lib/python3.10/dist-packages (from huggingface-hub<1.0,>=0.14.1->transformers) (4.5.0)\n",
            "Requirement already satisfied: urllib3<1.27,>=1.21.1 in /usr/local/lib/python3.10/dist-packages (from requests->transformers) (1.26.15)\n",
            "Requirement already satisfied: certifi>=2017.4.17 in /usr/local/lib/python3.10/dist-packages (from requests->transformers) (2022.12.7)\n",
            "Requirement already satisfied: charset-normalizer~=2.0.0 in /usr/local/lib/python3.10/dist-packages (from requests->transformers) (2.0.12)\n",
            "Requirement already satisfied: idna<4,>=2.5 in /usr/local/lib/python3.10/dist-packages (from requests->transformers) (3.4)\n",
            "Installing collected packages: tokenizers, safetensors, huggingface-hub, transformers\n",
            "Successfully installed huggingface-hub-0.15.1 safetensors-0.3.1 tokenizers-0.13.3 transformers-4.30.2\n"
          ]
        }
      ]
    },
    {
      "cell_type": "code",
      "source": [
        "import torch\n",
        "from transformers import AutoTokenizer, AutoModel, BertConfig, AutoModelForSequenceClassification, BertForSequenceClassification"
      ],
      "metadata": {
        "id": "LSsCXDhFqMes"
      },
      "execution_count": 13,
      "outputs": []
    },
    {
      "cell_type": "code",
      "source": [
        "def generate_model(num_labels):\n",
        "    model = BertForSequenceClassification.from_pretrained('bert-base-cased', num_labels = num_labels)\n",
        "    config = model.config\n",
        "    model = BertForSequenceClassification(config)\n",
        "    return model"
      ],
      "metadata": {
        "id": "mXwNJDHTqhhe"
      },
      "execution_count": 14,
      "outputs": []
    },
    {
      "cell_type": "code",
      "source": [
        "class integer_dataset(torch.utils.data.Dataset):\n",
        "\n",
        "    def __init__(self, num, prime):\n",
        "        self.input_ids = []\n",
        "        self.labels = []\n",
        "        self.attention_mask = []\n",
        "        for i in range(num):\n",
        "            a = random.randint(0, 2**32)\n",
        "            text = [10]\n",
        "            mask = [1]\n",
        "            count = 0\n",
        "            #sum = 0\n",
        "            self.labels.append(a%prime)\n",
        "            while a != 0:\n",
        "                text.append(a%10)\n",
        "                #sum += a%10\n",
        "                a = a//10\n",
        "                mask.append(1)\n",
        "            #text.append(sum)\n",
        "            #mask.append(1)\n",
        "            for i in range(13-len(text)):\n",
        "                text.append(10)\n",
        "                mask.append(0)\n",
        "            self.input_ids.append(text)\n",
        "            self.attention_mask.append(mask)\n",
        "        self.input_ids = torch.tensor(self.input_ids)\n",
        "        self.labels = torch.tensor(self.labels)\n",
        "        self.attention_mask = torch.tensor(self.attention_mask)\n",
        "\n",
        "    def classes(self):\n",
        "        return self.labels\n",
        "\n",
        "    def __len__(self):\n",
        "        return len(self.labels)\n",
        "\n",
        "    def __getitem__(self, idx):\n",
        "        return {'input_ids':self.input_ids[idx], 'attention_mask' : self.attention_mask[idx], 'labels':self.labels[idx]}"
      ],
      "metadata": {
        "id": "N4zhYDe1qn3I"
      },
      "execution_count": 15,
      "outputs": []
    },
    {
      "cell_type": "code",
      "source": [
        "dataset = integer_dataset(50000, 2)\n",
        "dataloader = torch.utils.data.DataLoader(dataset, batch_size=16)\n",
        "use_cuda = torch.cuda.is_available()\n",
        "device = torch.device(\"cuda\" if use_cuda else \"cpu\")"
      ],
      "metadata": {
        "id": "mid0yr3uq470"
      },
      "execution_count": 16,
      "outputs": []
    },
    {
      "cell_type": "code",
      "source": [
        "model = generate_model(2)"
      ],
      "metadata": {
        "colab": {
          "base_uri": "https://localhost:8080/",
          "height": 184,
          "referenced_widgets": [
            "7885ea281b8348f68b777687f305c923",
            "72ad1363e50d4af2a785ea8d3336e623",
            "f6db41b16af8454eae0e175318c139fd",
            "7dd4b3e2a0f348b5a64b40e22f9af65d",
            "210e946f6ebc4cb4a6deaee36f699452",
            "63036b17982a4d8cb372780a4ff9502c",
            "ec1b8269e29748848ed26dfc695530b3",
            "176e5d3852614c859029285041f9b37d",
            "1eb87fc6d7fb49a8a6a7137008a6567f",
            "136900f1f2e24a68ba918d048ada484f",
            "8ed00484c703476e862606379547ab4b",
            "e19099144c774eccb8a58ed6c70089ca",
            "caf97feadec84476bbedfd450ac10bfd",
            "a172b3da46614c2591f6c6369bdf4293",
            "8f4b94c5bd29415fba0a6e2f9d926c30",
            "8f34a57f85094dbaaeac8cc65f771dda",
            "1c420a71918b4f24ad57d1f4bd5de2f3",
            "987fe538329c4a1383c4a979379a36d4",
            "699a9352c41d4a9395c7b75278c31837",
            "d1cb4872be974dee8e9d80c78e7e1309",
            "22c572c48aeb4df8b33334806fecbe96",
            "aaa37ae24f304d31ba8bd83c81e0e9ed"
          ]
        },
        "id": "e1ah1ahsrSPh",
        "outputId": "905799d0-5a22-4f6a-b199-4be8dcc365b6"
      },
      "execution_count": 17,
      "outputs": [
        {
          "output_type": "display_data",
          "data": {
            "text/plain": [
              "Downloading (…)lve/main/config.json:   0%|          | 0.00/570 [00:00<?, ?B/s]"
            ],
            "application/vnd.jupyter.widget-view+json": {
              "version_major": 2,
              "version_minor": 0,
              "model_id": "7885ea281b8348f68b777687f305c923"
            }
          },
          "metadata": {}
        },
        {
          "output_type": "display_data",
          "data": {
            "text/plain": [
              "Downloading model.safetensors:   0%|          | 0.00/436M [00:00<?, ?B/s]"
            ],
            "application/vnd.jupyter.widget-view+json": {
              "version_major": 2,
              "version_minor": 0,
              "model_id": "e19099144c774eccb8a58ed6c70089ca"
            }
          },
          "metadata": {}
        },
        {
          "output_type": "stream",
          "name": "stderr",
          "text": [
            "Some weights of the model checkpoint at bert-base-cased were not used when initializing BertForSequenceClassification: ['cls.predictions.transform.LayerNorm.weight', 'cls.predictions.transform.LayerNorm.bias', 'cls.predictions.transform.dense.weight', 'cls.seq_relationship.bias', 'cls.predictions.transform.dense.bias', 'cls.seq_relationship.weight', 'cls.predictions.bias']\n",
            "- This IS expected if you are initializing BertForSequenceClassification from the checkpoint of a model trained on another task or with another architecture (e.g. initializing a BertForSequenceClassification model from a BertForPreTraining model).\n",
            "- This IS NOT expected if you are initializing BertForSequenceClassification from the checkpoint of a model that you expect to be exactly identical (initializing a BertForSequenceClassification model from a BertForSequenceClassification model).\n",
            "Some weights of BertForSequenceClassification were not initialized from the model checkpoint at bert-base-cased and are newly initialized: ['classifier.bias', 'classifier.weight']\n",
            "You should probably TRAIN this model on a down-stream task to be able to use it for predictions and inference.\n"
          ]
        }
      ]
    },
    {
      "cell_type": "code",
      "source": [
        "from torch.optim import Adam\n",
        "from tqdm import tqdm\n",
        "\n",
        "def train(model, train_num, val_num, learning_rate, epochs, prime, batch):\n",
        "\n",
        "    train, val = integer_dataset(train_num,prime), integer_dataset(val_num, prime)\n",
        "\n",
        "    train_dataloader = torch.utils.data.DataLoader(train, batch_size=batch, shuffle=True)\n",
        "    val_dataloader = torch.utils.data.DataLoader(val, batch_size=2)\n",
        "\n",
        "\n",
        "    optimizer = Adam(model.parameters(), lr= learning_rate)\n",
        "    model.train()\n",
        "    if use_cuda:\n",
        "\n",
        "            model = model.cuda()\n",
        "\n",
        "    for epoch_num in range(epochs):\n",
        "\n",
        "            total_acc_train = 0\n",
        "            total_loss_train = 0\n",
        "\n",
        "            for batch in tqdm(train_dataloader):\n",
        "\n",
        "                train_label = batch['labels'].to(device)\n",
        "                mask = batch['attention_mask'].to(device)\n",
        "                input_ids = batch['input_ids'].to(device)\n",
        "\n",
        "                loss, logits = model(input_ids = input_ids, attention_mask=mask,\n",
        "                                          labels=train_label, return_dict = False)\n",
        "\n",
        "                total_loss_train += loss.item()\n",
        "\n",
        "                acc = (logits.argmax(dim=1) == train_label).sum().item()\n",
        "                total_acc_train += acc\n",
        "\n",
        "                model.zero_grad()\n",
        "                loss.backward()\n",
        "                optimizer.step()\n",
        "\n",
        "            total_acc_val = 0\n",
        "\n",
        "            with torch.no_grad():\n",
        "                model.eval()\n",
        "                for batch in val_dataloader:\n",
        "\n",
        "                    test_label = batch['labels'].to(device)\n",
        "                    mask = batch['attention_mask'].to(device)\n",
        "                    input_ids = batch['input_ids'].to(device)\n",
        "\n",
        "                    loss, logits = model(input_ids = input_ids, attention_mask=mask,\n",
        "                                          labels=test_label,return_dict = False)\n",
        "\n",
        "                    acc = (logits.argmax(dim=1) == test_label).sum().item()\n",
        "                    total_acc_val += acc\n",
        "\n",
        "            print(\n",
        "                f'Epochs: {epoch_num + 1} | Train Loss: {total_loss_train / train_num: .3f} \\\n",
        "                | Train Accuracy: {total_acc_train / train_num: .3f} \\\n",
        "                | Val Accuracy: {total_acc_val / val_num: .3f}')"
      ],
      "metadata": {
        "id": "AM6Ems7ertgz"
      },
      "execution_count": 18,
      "outputs": []
    },
    {
      "cell_type": "code",
      "source": [
        "EPOCHS = 10\n",
        "LR = 1e-6\n",
        "train(model, 45000, 5000, LR, EPOCHS, 2, batch = 64)"
      ],
      "metadata": {
        "colab": {
          "base_uri": "https://localhost:8080/"
        },
        "id": "S1HLD9xmr12e",
        "outputId": "ed58956b-dd42-4c31-bd9b-2b5325b433d1"
      },
      "execution_count": 19,
      "outputs": [
        {
          "metadata": {
            "tags": null
          },
          "name": "stderr",
          "output_type": "stream",
          "text": [
            "100%|██████████| 704/704 [01:57<00:00,  5.98it/s]\n"
          ]
        },
        {
          "metadata": {
            "tags": null
          },
          "name": "stdout",
          "output_type": "stream",
          "text": [
            "Epochs: 1 | Train Loss:  0.005                 | Train Accuracy:  0.813                 | Val Accuracy:  1.000\n"
          ]
        },
        {
          "metadata": {
            "tags": null
          },
          "name": "stderr",
          "output_type": "stream",
          "text": [
            "100%|██████████| 704/704 [01:55<00:00,  6.09it/s]\n"
          ]
        },
        {
          "metadata": {
            "tags": null
          },
          "name": "stdout",
          "output_type": "stream",
          "text": [
            "Epochs: 2 | Train Loss:  0.000                 | Train Accuracy:  1.000                 | Val Accuracy:  1.000\n"
          ]
        },
        {
          "metadata": {
            "tags": null
          },
          "name": "stderr",
          "output_type": "stream",
          "text": [
            "100%|██████████| 704/704 [01:55<00:00,  6.09it/s]\n"
          ]
        },
        {
          "metadata": {
            "tags": null
          },
          "name": "stdout",
          "output_type": "stream",
          "text": [
            "Epochs: 3 | Train Loss:  0.000                 | Train Accuracy:  1.000                 | Val Accuracy:  1.000\n"
          ]
        },
        {
          "metadata": {
            "tags": null
          },
          "name": "stderr",
          "output_type": "stream",
          "text": [
            "100%|██████████| 704/704 [01:55<00:00,  6.09it/s]\n"
          ]
        },
        {
          "metadata": {
            "tags": null
          },
          "name": "stdout",
          "output_type": "stream",
          "text": [
            "Epochs: 4 | Train Loss:  0.000                 | Train Accuracy:  1.000                 | Val Accuracy:  1.000\n"
          ]
        },
        {
          "metadata": {
            "tags": null
          },
          "name": "stderr",
          "output_type": "stream",
          "text": [
            "100%|██████████| 704/704 [01:55<00:00,  6.09it/s]\n"
          ]
        },
        {
          "metadata": {
            "tags": null
          },
          "name": "stdout",
          "output_type": "stream",
          "text": [
            "Epochs: 5 | Train Loss:  0.000                 | Train Accuracy:  1.000                 | Val Accuracy:  1.000\n"
          ]
        },
        {
          "metadata": {
            "tags": null
          },
          "name": "stderr",
          "output_type": "stream",
          "text": [
            "100%|██████████| 704/704 [01:55<00:00,  6.09it/s]\n"
          ]
        },
        {
          "metadata": {
            "tags": null
          },
          "name": "stdout",
          "output_type": "stream",
          "text": [
            "Epochs: 6 | Train Loss:  0.000                 | Train Accuracy:  1.000                 | Val Accuracy:  1.000\n"
          ]
        },
        {
          "metadata": {
            "tags": null
          },
          "name": "stderr",
          "output_type": "stream",
          "text": [
            "100%|██████████| 704/704 [01:55<00:00,  6.09it/s]\n"
          ]
        },
        {
          "metadata": {
            "tags": null
          },
          "name": "stdout",
          "output_type": "stream",
          "text": [
            "Epochs: 7 | Train Loss:  0.000                 | Train Accuracy:  1.000                 | Val Accuracy:  1.000\n"
          ]
        },
        {
          "output_type": "stream",
          "name": "stderr",
          "text": [
            "100%|██████████| 704/704 [01:55<00:00,  6.09it/s]\n"
          ]
        },
        {
          "output_type": "stream",
          "name": "stdout",
          "text": [
            "Epochs: 8 | Train Loss:  0.000                 | Train Accuracy:  1.000                 | Val Accuracy:  1.000\n"
          ]
        },
        {
          "output_type": "stream",
          "name": "stderr",
          "text": [
            "100%|██████████| 704/704 [01:55<00:00,  6.09it/s]\n"
          ]
        },
        {
          "output_type": "stream",
          "name": "stdout",
          "text": [
            "Epochs: 9 | Train Loss:  0.000                 | Train Accuracy:  1.000                 | Val Accuracy:  1.000\n"
          ]
        },
        {
          "output_type": "stream",
          "name": "stderr",
          "text": [
            "100%|██████████| 704/704 [01:55<00:00,  6.09it/s]\n"
          ]
        },
        {
          "output_type": "stream",
          "name": "stdout",
          "text": [
            "Epochs: 10 | Train Loss:  0.000                 | Train Accuracy:  1.000                 | Val Accuracy:  1.000\n"
          ]
        }
      ]
    }
  ]
}
